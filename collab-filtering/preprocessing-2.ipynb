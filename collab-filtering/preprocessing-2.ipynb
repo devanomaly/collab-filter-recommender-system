{
 "cells": [
  {
   "cell_type": "markdown",
   "metadata": {},
   "source": [
    "### Let us now \"shrink\" our data. In order to handle computations in my personal computer, I'll take a subset of users and movies, given by \n",
    "- the users who've rated the most movies\n",
    "- the movies who've been rated by the most users\n",
    "\n",
    "# Atention! Please, see the \"preprocessing-1.ipynb\" file before continuing! "
   ]
  },
  {
   "cell_type": "code",
   "execution_count": 1,
   "metadata": {},
   "outputs": [],
   "source": [
    "import pandas as pd\n",
    "import numpy as np\n",
    "import pickle"
   ]
  },
  {
   "cell_type": "code",
   "execution_count": 2,
   "metadata": {},
   "outputs": [],
   "source": [
    "# from \"dataset-exploration.ipynb\" file, we know that\n",
    "N = 138493 # is the total possible number of users\n",
    "M = 131262 # is the total possible number of movies\n",
    "\n",
    "user_ids_count = 138493 # is the number of distinct user ids that occur in the dataset\n",
    "movie_ids_count = 26744 # is the number of distinct movie ids that occur in the dataset\n",
    "# this reading takes about 15s\n",
    "df = pd.read_csv('../dataset/MovieLens20M/edited_rating.csv')"
   ]
  },
  {
   "cell_type": "code",
   "execution_count": 3,
   "metadata": {},
   "outputs": [
    {
     "name": "stdout",
     "output_type": "stream",
     "text": [
      "original dataframe size 20000263\n"
     ]
    },
    {
     "data": {
      "text/html": [
       "<div>\n",
       "<style scoped>\n",
       "    .dataframe tbody tr th:only-of-type {\n",
       "        vertical-align: middle;\n",
       "    }\n",
       "\n",
       "    .dataframe tbody tr th {\n",
       "        vertical-align: top;\n",
       "    }\n",
       "\n",
       "    .dataframe thead th {\n",
       "        text-align: right;\n",
       "    }\n",
       "</style>\n",
       "<table border=\"1\" class=\"dataframe\">\n",
       "  <thead>\n",
       "    <tr style=\"text-align: right;\">\n",
       "      <th></th>\n",
       "      <th>userId</th>\n",
       "      <th>movieId</th>\n",
       "      <th>rating</th>\n",
       "      <th>movie_idx</th>\n",
       "    </tr>\n",
       "  </thead>\n",
       "  <tbody>\n",
       "    <tr>\n",
       "      <th>0</th>\n",
       "      <td>0</td>\n",
       "      <td>2</td>\n",
       "      <td>3.5</td>\n",
       "      <td>0</td>\n",
       "    </tr>\n",
       "    <tr>\n",
       "      <th>1</th>\n",
       "      <td>0</td>\n",
       "      <td>29</td>\n",
       "      <td>3.5</td>\n",
       "      <td>1</td>\n",
       "    </tr>\n",
       "    <tr>\n",
       "      <th>2</th>\n",
       "      <td>0</td>\n",
       "      <td>32</td>\n",
       "      <td>3.5</td>\n",
       "      <td>2</td>\n",
       "    </tr>\n",
       "    <tr>\n",
       "      <th>3</th>\n",
       "      <td>0</td>\n",
       "      <td>47</td>\n",
       "      <td>3.5</td>\n",
       "      <td>3</td>\n",
       "    </tr>\n",
       "    <tr>\n",
       "      <th>4</th>\n",
       "      <td>0</td>\n",
       "      <td>50</td>\n",
       "      <td>3.5</td>\n",
       "      <td>4</td>\n",
       "    </tr>\n",
       "  </tbody>\n",
       "</table>\n",
       "</div>"
      ],
      "text/plain": [
       "   userId  movieId  rating  movie_idx\n",
       "0       0        2     3.5          0\n",
       "1       0       29     3.5          1\n",
       "2       0       32     3.5          2\n",
       "3       0       47     3.5          3\n",
       "4       0       50     3.5          4"
      ]
     },
     "execution_count": 3,
     "metadata": {},
     "output_type": "execute_result"
    }
   ],
   "source": [
    "print(\"original dataframe size\", len(df))\n",
    "df.head()"
   ]
  },
  {
   "cell_type": "code",
   "execution_count": 4,
   "metadata": {},
   "outputs": [],
   "source": [
    "# the numbers of users and movies we'd like to keep (needs experimentation and testing! in the future, we'd like to compare performances of the full dataset vs this implementation...)\n",
    "n = 10000\n",
    "m = 2000\n",
    "\n",
    "# we now select the most commmon n users and m movies\n",
    "user_ids = df.userId.value_counts()[:n].index.tolist()\n",
    "movie_ids = df.movie_idx.value_counts()[:m].index.tolist()\n",
    "# print(\"user_ids\",user_ids)\n",
    "# print(\"movie_ids\",movie_ids)"
   ]
  },
  {
   "cell_type": "code",
   "execution_count": 5,
   "metadata": {},
   "outputs": [
    {
     "data": {
      "text/html": [
       "<div>\n",
       "<style scoped>\n",
       "    .dataframe tbody tr th:only-of-type {\n",
       "        vertical-align: middle;\n",
       "    }\n",
       "\n",
       "    .dataframe tbody tr th {\n",
       "        vertical-align: top;\n",
       "    }\n",
       "\n",
       "    .dataframe thead th {\n",
       "        text-align: right;\n",
       "    }\n",
       "</style>\n",
       "<table border=\"1\" class=\"dataframe\">\n",
       "  <thead>\n",
       "    <tr style=\"text-align: right;\">\n",
       "      <th></th>\n",
       "      <th>userId</th>\n",
       "      <th>movieId</th>\n",
       "      <th>rating</th>\n",
       "      <th>movie_idx</th>\n",
       "    </tr>\n",
       "  </thead>\n",
       "  <tbody>\n",
       "    <tr>\n",
       "      <th>960</th>\n",
       "      <td>10</td>\n",
       "      <td>1</td>\n",
       "      <td>4.5</td>\n",
       "      <td>227</td>\n",
       "    </tr>\n",
       "    <tr>\n",
       "      <th>961</th>\n",
       "      <td>10</td>\n",
       "      <td>10</td>\n",
       "      <td>2.5</td>\n",
       "      <td>365</td>\n",
       "    </tr>\n",
       "    <tr>\n",
       "      <th>962</th>\n",
       "      <td>10</td>\n",
       "      <td>19</td>\n",
       "      <td>3.5</td>\n",
       "      <td>366</td>\n",
       "    </tr>\n",
       "    <tr>\n",
       "      <th>963</th>\n",
       "      <td>10</td>\n",
       "      <td>32</td>\n",
       "      <td>5.0</td>\n",
       "      <td>2</td>\n",
       "    </tr>\n",
       "    <tr>\n",
       "      <th>964</th>\n",
       "      <td>10</td>\n",
       "      <td>39</td>\n",
       "      <td>4.5</td>\n",
       "      <td>631</td>\n",
       "    </tr>\n",
       "  </tbody>\n",
       "</table>\n",
       "</div>"
      ],
      "text/plain": [
       "     userId  movieId  rating  movie_idx\n",
       "960      10        1     4.5        227\n",
       "961      10       10     2.5        365\n",
       "962      10       19     3.5        366\n",
       "963      10       32     5.0          2\n",
       "964      10       39     4.5        631"
      ]
     },
     "execution_count": 5,
     "metadata": {},
     "output_type": "execute_result"
    }
   ],
   "source": [
    "# we make a small copy and take only the data in both user_ids and movie_ids\n",
    "df_small = df[df.userId.isin(user_ids) & df.movie_idx.isin(movie_ids)].copy()\n",
    "df_small.head()"
   ]
  },
  {
   "cell_type": "code",
   "execution_count": 6,
   "metadata": {},
   "outputs": [
    {
     "name": "stdout",
     "output_type": "stream",
     "text": [
      "final i = 10000\n",
      "final j = 2000\n"
     ]
    }
   ],
   "source": [
    "# now, we must remake user and movie ids since their \"sequentiality\" is lost\n",
    "new_user_id_map = {}\n",
    "i = 0\n",
    "for old_user_id in user_ids:\n",
    "  new_user_id_map[old_user_id] = i\n",
    "  i += 1\n",
    "print(\"final i =\",i)\n",
    "\n",
    "new_movie_id_map = {}\n",
    "j = 0\n",
    "for old_movie_id in movie_ids:\n",
    "  new_movie_id_map[old_movie_id] = j\n",
    "  j += 1\n",
    "print(\"final j =\",j)"
   ]
  },
  {
   "cell_type": "code",
   "execution_count": 7,
   "metadata": {},
   "outputs": [
    {
     "data": {
      "text/html": [
       "<div>\n",
       "<style scoped>\n",
       "    .dataframe tbody tr th:only-of-type {\n",
       "        vertical-align: middle;\n",
       "    }\n",
       "\n",
       "    .dataframe tbody tr th {\n",
       "        vertical-align: top;\n",
       "    }\n",
       "\n",
       "    .dataframe thead th {\n",
       "        text-align: right;\n",
       "    }\n",
       "</style>\n",
       "<table border=\"1\" class=\"dataframe\">\n",
       "  <thead>\n",
       "    <tr style=\"text-align: right;\">\n",
       "      <th></th>\n",
       "      <th>userId</th>\n",
       "      <th>movieId</th>\n",
       "      <th>rating</th>\n",
       "      <th>movie_idx</th>\n",
       "    </tr>\n",
       "  </thead>\n",
       "  <tbody>\n",
       "    <tr>\n",
       "      <th>960</th>\n",
       "      <td>7325</td>\n",
       "      <td>1</td>\n",
       "      <td>4.5</td>\n",
       "      <td>10</td>\n",
       "    </tr>\n",
       "    <tr>\n",
       "      <th>961</th>\n",
       "      <td>7325</td>\n",
       "      <td>10</td>\n",
       "      <td>2.5</td>\n",
       "      <td>68</td>\n",
       "    </tr>\n",
       "    <tr>\n",
       "      <th>962</th>\n",
       "      <td>7325</td>\n",
       "      <td>19</td>\n",
       "      <td>3.5</td>\n",
       "      <td>143</td>\n",
       "    </tr>\n",
       "    <tr>\n",
       "      <th>963</th>\n",
       "      <td>7325</td>\n",
       "      <td>32</td>\n",
       "      <td>5.0</td>\n",
       "      <td>19</td>\n",
       "    </tr>\n",
       "    <tr>\n",
       "      <th>964</th>\n",
       "      <td>7325</td>\n",
       "      <td>39</td>\n",
       "      <td>4.5</td>\n",
       "      <td>85</td>\n",
       "    </tr>\n",
       "  </tbody>\n",
       "</table>\n",
       "</div>"
      ],
      "text/plain": [
       "     userId  movieId  rating  movie_idx\n",
       "960    7325        1     4.5         10\n",
       "961    7325       10     2.5         68\n",
       "962    7325       19     3.5        143\n",
       "963    7325       32     5.0         19\n",
       "964    7325       39     4.5         85"
      ]
     },
     "execution_count": 7,
     "metadata": {},
     "output_type": "execute_result"
    }
   ],
   "source": [
    "# let us now use the sequential ids above as our \"true\" new ids in df_small\n",
    "df_small[\"userId\"] = df_small.userId.map(new_user_id_map)\n",
    "df_small[\"movie_idx\"] = df_small.movie_idx.map(new_movie_id_map)\n",
    "df_small.head()"
   ]
  },
  {
   "cell_type": "code",
   "execution_count": 8,
   "metadata": {},
   "outputs": [],
   "source": [
    "df_small.to_csv('../dataset/MovieLens20M/edited_rating_small_dataset.csv', index=False)"
   ]
  }
 ],
 "metadata": {
  "kernelspec": {
   "display_name": "Python 3.9.13 64-bit",
   "language": "python",
   "name": "python3"
  },
  "language_info": {
   "codemirror_mode": {
    "name": "ipython",
    "version": 3
   },
   "file_extension": ".py",
   "mimetype": "text/x-python",
   "name": "python",
   "nbconvert_exporter": "python",
   "pygments_lexer": "ipython3",
   "version": "3.9.13"
  },
  "orig_nbformat": 4,
  "vscode": {
   "interpreter": {
    "hash": "e7370f93d1d0cde622a1f8e1c04877d8463912d04d973331ad4851f04de6915a"
   }
  }
 },
 "nbformat": 4,
 "nbformat_minor": 2
}
